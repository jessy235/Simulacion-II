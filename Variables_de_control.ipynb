{
  "nbformat": 4,
  "nbformat_minor": 0,
  "metadata": {
    "colab": {
      "provenance": [],
      "authorship_tag": "ABX9TyPKZGgBuYslJZX8v7ATH51S",
      "include_colab_link": true
    },
    "kernelspec": {
      "name": "python3",
      "display_name": "Python 3"
    },
    "language_info": {
      "name": "python"
    }
  },
  "cells": [
    {
      "cell_type": "markdown",
      "metadata": {
        "id": "view-in-github",
        "colab_type": "text"
      },
      "source": [
        "<a href=\"https://colab.research.google.com/github/jessy235/Simulacion-II/blob/main/Variables_de_control.ipynb\" target=\"_parent\"><img src=\"https://colab.research.google.com/assets/colab-badge.svg\" alt=\"Open In Colab\"/></a>"
      ]
    },
    {
      "cell_type": "markdown",
      "source": [
        "librerias:"
      ],
      "metadata": {
        "id": "gPDw5xqb-D1D"
      }
    },
    {
      "cell_type": "code",
      "execution_count": 1,
      "metadata": {
        "id": "RpZY_h-G8lp5"
      },
      "outputs": [],
      "source": [
        "import numpy as np\n",
        "from scipy.stats import t"
      ]
    },
    {
      "cell_type": "markdown",
      "source": [
        "funcion:"
      ],
      "metadata": {
        "id": "5ah9J-mi8y-G"
      }
    },
    {
      "cell_type": "code",
      "source": [
        "def g(x):\n",
        "    return np.sqrt(np.arctan(x))"
      ],
      "metadata": {
        "id": "wKSUw-Vv8wTi"
      },
      "execution_count": 2,
      "outputs": []
    },
    {
      "cell_type": "markdown",
      "source": [
        "monte carlo crudo:"
      ],
      "metadata": {
        "id": "jeusq8Jn851F"
      }
    },
    {
      "cell_type": "code",
      "source": [
        "def mc_crudo(N):\n",
        "    u = np.random.rand(N)\n",
        "    return np.mean(g(u))"
      ],
      "metadata": {
        "id": "tuHzNyKi81-A"
      },
      "execution_count": 3,
      "outputs": []
    },
    {
      "cell_type": "markdown",
      "source": [
        "monte carlo  con variable de control:"
      ],
      "metadata": {
        "id": "xnMn1WYJ9Cip"
      }
    },
    {
      "cell_type": "code",
      "source": [
        "def mc_control(N):\n",
        "    u = np.random.rand(N)\n",
        "    x = g(u)                       # variable original\n",
        "    y = u                          # variable de control (E[Y] = 0.5)\n",
        "    c = np.cov(x, y, ddof=1)[0, 1] / np.var(y, ddof=1)   # valor óptimo de c\n",
        "    z = x - c * (y - 0.5)          # nueva variable corregida\n",
        "    return np.mean(z)"
      ],
      "metadata": {
        "id": "cAzjl84q88Yy"
      },
      "execution_count": 4,
      "outputs": []
    },
    {
      "cell_type": "markdown",
      "source": [
        "simulacion:"
      ],
      "metadata": {
        "id": "NCqen2cL9Ks8"
      }
    },
    {
      "cell_type": "code",
      "source": [
        "def simulacion(num_reps=1000, N=1000, alpha=0.05):\n",
        "    L_crudo = [mc_crudo(N) for _ in range(num_reps)]\n",
        "    L_control = [mc_control(N) for _ in range(num_reps)]\n"
      ],
      "metadata": {
        "id": "MVNoK4Sm9G7x"
      },
      "execution_count": 5,
      "outputs": []
    },
    {
      "cell_type": "markdown",
      "source": [
        "Simulacion y comparacion:"
      ],
      "metadata": {
        "id": "rjjdogRO9_JM"
      }
    },
    {
      "cell_type": "code",
      "source": [
        "\n",
        "def simulacion(num_reps=1000, N=1000):\n",
        "    # Repetimos el experimento muchas veces\n",
        "    L_crudo = [mc_crudo(N) for _ in range(num_reps)]\n",
        "    L_control = [mc_control(N) for _ in range(num_reps)]\n",
        "\n",
        "    # Cálculos estadísticos\n",
        "    mean_crudo = np.mean(L_crudo)\n",
        "    mean_control = np.mean(L_control)\n",
        "    var_crudo = np.var(L_crudo, ddof=1)\n",
        "    var_control = np.var(L_control, ddof=1)\n",
        "\n",
        "    # Porcentaje de reducción de varianza\n",
        "    reduccion = (1 - var_control / var_crudo) * 100\n",
        "\n",
        "    # Mostrar resultados\n",
        "    print(\"Monte Carlo crudo:\")\n",
        "    print(\"  Media =\", mean_crudo)\n",
        "    print(\"  Varianza =\", var_crudo)\n",
        "    print()\n",
        "    print(\"Monte Carlo con variable de control:\")\n",
        "    print(\"  Media =\", mean_control)\n",
        "    print(\"  Varianza =\", var_control)\n",
        "    print()\n",
        "    print(f\"Reducción de la varianza: {reduccion:.2f}%\")\n",
        "\n",
        "# Llamamos la simulación\n",
        "simulacion()"
      ],
      "metadata": {
        "colab": {
          "base_uri": "https://localhost:8080/"
        },
        "id": "-YK_hVS-9OvR",
        "outputId": "1eb9677d-ba80-4144-fd54-7bcad20e0926"
      },
      "execution_count": 7,
      "outputs": [
        {
          "output_type": "stream",
          "name": "stdout",
          "text": [
            "Monte Carlo crudo:\n",
            "  Media = 0.6299347640433505\n",
            "  Varianza = 4.413351869886434e-05\n",
            "\n",
            "Monte Carlo con variable de control:\n",
            "  Media = 0.6297892495886809\n",
            "  Varianza = 3.1534166910958382e-06\n",
            "\n",
            "Reducción de la varianza: 92.85%\n"
          ]
        }
      ]
    }
  ]
}