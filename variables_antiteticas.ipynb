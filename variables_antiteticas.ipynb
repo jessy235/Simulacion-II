{
  "nbformat": 4,
  "nbformat_minor": 0,
  "metadata": {
    "colab": {
      "provenance": [],
      "authorship_tag": "ABX9TyMt5WztLhruvFUWAk71VDw4",
      "include_colab_link": true
    },
    "kernelspec": {
      "name": "python3",
      "display_name": "Python 3"
    },
    "language_info": {
      "name": "python"
    }
  },
  "cells": [
    {
      "cell_type": "markdown",
      "metadata": {
        "id": "view-in-github",
        "colab_type": "text"
      },
      "source": [
        "<a href=\"https://colab.research.google.com/github/jessy235/Simulacion-II/blob/main/variables_antiteticas.ipynb\" target=\"_parent\"><img src=\"https://colab.research.google.com/assets/colab-badge.svg\" alt=\"Open In Colab\"/></a>"
      ]
    },
    {
      "cell_type": "markdown",
      "source": [
        "Librerias y funcion objetivo:"
      ],
      "metadata": {
        "id": "zyzKnW1Cvg_4"
      }
    },
    {
      "cell_type": "code",
      "execution_count": 18,
      "metadata": {
        "id": "rlr4IMAEtnGv"
      },
      "outputs": [],
      "source": [
        "import numpy as np\n",
        "import matplotlib.pyplot as plt\n",
        "\n",
        "def g(x):\n",
        "    return np.sqrt(np.arctan(x))"
      ]
    },
    {
      "cell_type": "markdown",
      "source": [
        "Funciones de Monte carlo:"
      ],
      "metadata": {
        "id": "wdLKUweAt2yT"
      }
    },
    {
      "cell_type": "code",
      "source": [
        "import numpy as np\n",
        "import matplotlib.pyplot as plt\n",
        "\n",
        "def g(x):\n",
        "    return np.sqrt(np.arctan(x))"
      ],
      "metadata": {
        "id": "sICFmSE3typF"
      },
      "execution_count": 19,
      "outputs": []
    },
    {
      "cell_type": "markdown",
      "source": [
        "Simulacion:"
      ],
      "metadata": {
        "id": "4Ottaa7fuC0r"
      }
    },
    {
      "cell_type": "code",
      "source": [
        "def simulacion(num_reps=1000, N=1000):\n",
        "\n",
        "    L_crudo = [mc_crudo(N) for _ in range(num_reps)]\n",
        "    L_anti  = [mc_antitetico(N) for _ in range(num_reps)]\n",
        "\n",
        "    mean_crudo = np.mean(L_crudo)\n",
        "    var_crudo  = np.var(L_crudo, ddof=1)\n",
        "    mean_anti  = np.mean(L_anti)\n",
        "    var_anti   = np.var(L_anti, ddof=1)\n",
        "\n",
        "    reduccion = 100 * (var_crudo - var_anti) / var_crudo\n",
        "\n",
        "\n",
        "\n",
        "\n",
        ""
      ],
      "metadata": {
        "id": "Fzj5VgDkt6Wv"
      },
      "execution_count": 29,
      "outputs": []
    },
    {
      "cell_type": "markdown",
      "source": [
        "resultados:"
      ],
      "metadata": {
        "id": "wVP1Qmi-uRBx"
      }
    },
    {
      "cell_type": "code",
      "source": [
        "L_crudo, L_anti, mean_crudo, mean_anti, var_crudo, var_anti, reduccion, tiempo = simulacion()\n",
        "\n",
        "print(\"=== Resultados ===\")\n",
        "print(\"Crudo:      media =\", mean_crudo, \" var =\", var_crudo)\n",
        "print(\"Antitético: media =\", mean_anti,  \" var =\", var_anti)\n",
        "print(\"Reducción de varianza =\", reduccion, \"%\")\n",
        "print(\"Tiempo total de simulación =\", tiempo, \"segundos\")"
      ],
      "metadata": {
        "colab": {
          "base_uri": "https://localhost:8080/"
        },
        "id": "pqLyLwPPuPZe",
        "outputId": "99aed8c7-7a54-47c4-aa53-929764aeb760"
      },
      "execution_count": 30,
      "outputs": [
        {
          "output_type": "stream",
          "name": "stdout",
          "text": [
            "=== Resultados ===\n",
            "Crudo:      media = 0.6296440351514894  var = 4.090667164665145e-05\n",
            "Antitético: media = 0.21259368931192907  var = 0.08707121332898625\n",
            "Reducción de varianza = -212753.33131255562 %\n",
            "Tiempo total de simulación = 5.446682650000184 segundos\n"
          ]
        }
      ]
    },
    {
      "cell_type": "markdown",
      "source": [
        "Graficando resultadods:"
      ],
      "metadata": {
        "id": "0WyUQ_Y6uXe9"
      }
    },
    {
      "cell_type": "code",
      "source": [
        "plt.plot(np.cumsum(L_crudo)/np.arange(1, len(L_crudo)+1), label=\"Crudo\")\n",
        "plt.plot(np.cumsum(L_anti)/np.arange(1, len(L_anti)+1),  label=\"Antitético\")\n",
        "plt.xlabel(\"Iteraciones\")\n",
        "plt.ylabel(\"Media acumulada\")\n",
        "plt.title(\"Monte Carlo Crudo vs Antitético\")\n",
        "plt.legend()\n",
        "plt.show()"
      ],
      "metadata": {
        "id": "JIAh-mwguThy"
      },
      "execution_count": null,
      "outputs": []
    },
    {
      "cell_type": "markdown",
      "source": [
        "Técnica al MC de Acierto y Error:"
      ],
      "metadata": {
        "id": "i6GMDzQvws8k"
      }
    },
    {
      "cell_type": "code",
      "source": [
        "import numpy as np\n",
        "import timeit"
      ],
      "metadata": {
        "id": "fW2JYxmzwsFS"
      },
      "execution_count": null,
      "outputs": []
    },
    {
      "cell_type": "code",
      "source": [
        "def estimacion():\n",
        "    u = np.random.rand()\n",
        "    return g(u)\n",
        "\n",
        "def mc_acierto(N):\n",
        "    lista = []\n",
        "    inicio = timeit.default_timer()\n",
        "    for i in range(N):\n",
        "        lista.append(estimacion())\n",
        "    fin = timeit.default_timer()\n",
        "    tiempo = fin - inicio\n",
        "    return np.mean(lista), np.var(lista), tiempo"
      ],
      "metadata": {
        "id": "X6tENz2mywU6"
      },
      "execution_count": null,
      "outputs": []
    },
    {
      "cell_type": "code",
      "source": [
        "def estimacion_antitetica():\n",
        "    u = np.random.rand()\n",
        "    u_ant = 1 - u\n",
        "    return (g(u) + g(u_ant)) / 2\n",
        "\n",
        "def mc_antitetico(N):\n",
        "    lista = []\n",
        "    inicio = timeit.default_timer()\n",
        "    for i in range(N):\n",
        "        lista.append(estimacion_antitetica())\n",
        "    fin = timeit.default_timer()\n",
        "    tiempo = fin - inicio\n",
        "    return np.mean(lista), np.var(lista), tiempo"
      ],
      "metadata": {
        "id": "Ri1zOkJ0y1OT"
      },
      "execution_count": 31,
      "outputs": []
    },
    {
      "cell_type": "code",
      "source": [
        "N = 100000\n",
        "\n",
        "res_acierto = mc_acierto(N)\n",
        "res_antitetico = mc_antitetico(N)\n",
        "\n",
        "print(\"Método Acierto/Error:\")\n",
        "print(\"Media:\", res_acierto[0], \" Varianza:\", res_acierto[1], \" Tiempo:\", res_acierto[2])\n",
        "\n",
        "print(\"\\nMétodo Antitético:\")\n",
        "print(\"Media:\", res_antitetico[0], \" Varianza:\", res_antitetico[1], \" Tiempo:\", res_antitetico[2])\n",
        "reduccion = ((res_acierto[1] - res_antitetico[1]) / res_acierto[1]) * 100\n",
        "print(\"\\nReducción de varianza: {:.2f}%\".format(reduccion))"
      ],
      "metadata": {
        "colab": {
          "base_uri": "https://localhost:8080/"
        },
        "id": "I9Eguctyy95y",
        "outputId": "27da83d7-e8cb-4feb-fbe7-b36bf333e43d"
      },
      "execution_count": 32,
      "outputs": [
        {
          "output_type": "stream",
          "name": "stdout",
          "text": [
            "Método Acierto/Error:\n",
            "Media: 0.6303404394473188  Varianza: 0.042225794267080646  Tiempo: 0.29330092899999727\n",
            "\n",
            "Método Antitético:\n",
            "Media: 0.6298538983000108  Varianza: 0.002763768587584608  Tiempo: 0.5464533780000238\n",
            "\n",
            "Reducción de varianza: 93.45%\n"
          ]
        }
      ]
    }
  ]
}